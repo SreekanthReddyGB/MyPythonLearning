{
 "cells": [
  {
   "cell_type": "code",
   "execution_count": 6,
   "metadata": {},
   "outputs": [
    {
     "name": "stdout",
     "output_type": "stream",
     "text": [
      "1-D Array \n",
      "[1 2 3]\n",
      "\n",
      "2-D Array \n",
      "[[1 2]\n",
      " [3 4]]\n"
     ]
    }
   ],
   "source": [
    "import numpy as np\n",
    "oneDArray=np.array([1,2,3])\n",
    "print(\"1-D Array \\n{}\".format(oneDArray))\n",
    "print()\n",
    "twoDArray=np.array([[1,2], [3,4]])\n",
    "print(\"2-D Array \\n{}\".format(twoDArray))"
   ]
  },
  {
   "cell_type": "code",
   "execution_count": 9,
   "metadata": {},
   "outputs": [
    {
     "name": "stdout",
     "output_type": "stream",
     "text": [
      "28000\n",
      "4000\n",
      "53.971290588378906\n",
      "9.991884231567383\n"
     ]
    }
   ],
   "source": [
    "import time\n",
    "import sys\n",
    "\n",
    "s= range(1000)\n",
    "\n",
    "print(sys.getsizeof(5)*len(s))\n",
    "\n",
    "d=np.arange(1000)\n",
    "print(d.size * d.itemsize)\n",
    " \n",
    "SIZE = 100000\n",
    "l1=range(SIZE)\n",
    "l2=range(SIZE)\n",
    "\n",
    "a1 = np.arange(SIZE)\n",
    "a2 = np.arange(SIZE)\n",
    "\n",
    "start= time.time()\n",
    "result=[(x,y) for x,y in zip(l1,l2)]\n",
    "print((time.time()-start)*1000)\n",
    "\n",
    "start= time.time()\n",
    "result=a1+a2\n",
    "print((time.time()-start)*1000)"
   ]
  },
  {
   "cell_type": "code",
   "execution_count": null,
   "metadata": {},
   "outputs": [],
   "source": []
  }
 ],
 "metadata": {
  "kernelspec": {
   "display_name": "Python 3",
   "language": "python",
   "name": "python3"
  },
  "language_info": {
   "codemirror_mode": {
    "name": "ipython",
    "version": 3
   },
   "file_extension": ".py",
   "mimetype": "text/x-python",
   "name": "python",
   "nbconvert_exporter": "python",
   "pygments_lexer": "ipython3",
   "version": "3.7.0"
  }
 },
 "nbformat": 4,
 "nbformat_minor": 2
}
