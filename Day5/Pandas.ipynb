{
 "cells": [
  {
   "cell_type": "code",
   "execution_count": 1,
   "metadata": {},
   "outputs": [],
   "source": [
    "import pandas as pd"
   ]
  },
  {
   "cell_type": "code",
   "execution_count": 2,
   "metadata": {},
   "outputs": [
    {
     "name": "stdout",
     "output_type": "stream",
     "text": [
      "          day  temparature  windspeed  event\n",
      "0  2018-01-01           32          5  sunny\n",
      "1  2018-01-02           31          6  sunny\n",
      "2  2018-01-03           33          3  sunny\n",
      "3  2018-01-04           35          2  sunny\n",
      "4  2018-01-05           27          8  windy\n",
      "5  2018-01-06           28          8  rainy\n",
      "6  2018-01-07           26          7  rainy\n",
      "7  2018-01-08           23         10  windy\n",
      "8  2018-01-09           25          9  windy\n",
      "9  2018-01-10           29          5  rainy\n",
      "10 2018-01-11           30          4  sunny\n",
      "11 2018-01-12           31          4  sunny\n",
      "12 2018-01-13           35          2  sunny\n"
     ]
    }
   ],
   "source": [
    "df = pd.read_excel(\"weatherReport.xlsx\")\n",
    "print(df)"
   ]
  },
  {
   "cell_type": "code",
   "execution_count": 3,
   "metadata": {},
   "outputs": [
    {
     "name": "stdout",
     "output_type": "stream",
     "text": [
      "          day  temparature  windspeed  event_rainy  event_sunny  event_windy\n",
      "0  2018-01-01           32          5            0            1            0\n",
      "1  2018-01-02           31          6            0            1            0\n",
      "2  2018-01-03           33          3            0            1            0\n",
      "3  2018-01-04           35          2            0            1            0\n",
      "4  2018-01-05           27          8            0            0            1\n",
      "5  2018-01-06           28          8            1            0            0\n",
      "6  2018-01-07           26          7            1            0            0\n",
      "7  2018-01-08           23         10            0            0            1\n",
      "8  2018-01-09           25          9            0            0            1\n",
      "9  2018-01-10           29          5            1            0            0\n",
      "10 2018-01-11           30          4            0            1            0\n",
      "11 2018-01-12           31          4            0            1            0\n",
      "12 2018-01-13           35          2            0            1            0\n"
     ]
    }
   ],
   "source": [
    "# Convert Events from string to unqiue number...\n",
    "df_transform = pd.get_dummies( df )\n",
    "print( df_transform )"
   ]
  },
  {
   "cell_type": "code",
   "execution_count": 4,
   "metadata": {},
   "outputs": [
    {
     "name": "stdout",
     "output_type": "stream",
     "text": [
      "{'sunny': 0, 'windy': 1, 'rainy': 2}\n",
      "          day  temparature  windspeed  event\n",
      "0  2018-01-01           32          5      0\n",
      "1  2018-01-02           31          6      0\n",
      "2  2018-01-03           33          3      0\n",
      "3  2018-01-04           35          2      0\n",
      "4  2018-01-05           27          8      1\n",
      "5  2018-01-06           28          8      2\n",
      "6  2018-01-07           26          7      2\n",
      "7  2018-01-08           23         10      1\n",
      "8  2018-01-09           25          9      1\n",
      "9  2018-01-10           29          5      2\n",
      "10 2018-01-11           30          4      0\n",
      "11 2018-01-12           31          4      0\n",
      "12 2018-01-13           35          2      0\n"
     ]
    }
   ],
   "source": [
    "uniqueEvent = df.event.unique()\n",
    "mapping =  dict(zip(uniqueEvent,range(len(uniqueEvent))))\n",
    "print(mapping)\n",
    "df = df.replace({'event':mapping})\n",
    "print(df)"
   ]
  },
  {
   "cell_type": "code",
   "execution_count": null,
   "metadata": {},
   "outputs": [],
   "source": []
  }
 ],
 "metadata": {
  "kernelspec": {
   "display_name": "Python 3",
   "language": "python",
   "name": "python3"
  },
  "language_info": {
   "codemirror_mode": {
    "name": "ipython",
    "version": 3
   },
   "file_extension": ".py",
   "mimetype": "text/x-python",
   "name": "python",
   "nbconvert_exporter": "python",
   "pygments_lexer": "ipython3",
   "version": "3.7.0"
  }
 },
 "nbformat": 4,
 "nbformat_minor": 2
}
