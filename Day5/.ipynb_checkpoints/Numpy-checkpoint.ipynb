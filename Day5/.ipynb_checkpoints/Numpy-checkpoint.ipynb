{
 "cells": [
  {
   "cell_type": "code",
   "execution_count": 1,
   "metadata": {},
   "outputs": [],
   "source": [
    "import numpy as np"
   ]
  },
  {
   "cell_type": "code",
   "execution_count": 10,
   "metadata": {},
   "outputs": [
    {
     "name": "stdout",
     "output_type": "stream",
     "text": [
      "['1' '2' '3']\n"
     ]
    }
   ],
   "source": [
    "a = np.array([\"1\", \"2\", \"3\"])\n",
    "print(a)"
   ]
  },
  {
   "cell_type": "code",
   "execution_count": 11,
   "metadata": {},
   "outputs": [
    {
     "name": "stdout",
     "output_type": "stream",
     "text": [
      "[[1 2 3]\n",
      " [4 5 6]]\n"
     ]
    }
   ],
   "source": [
    "b = np.array([(1,2,3),(4,5,6)])\n",
    "print(b)"
   ]
  },
  {
   "cell_type": "code",
   "execution_count": 12,
   "metadata": {},
   "outputs": [
    {
     "name": "stdout",
     "output_type": "stream",
     "text": [
      "[[[ 1  2  3]\n",
      "  [ 4  5  6]]\n",
      "\n",
      " [[ 7  8  9]\n",
      "  [10 11 12]]]\n"
     ]
    }
   ],
   "source": [
    "c = np.array([[(1,2,3),(4,5,6)], [(7,8,9),(10,11,12)]], dtype=int)\n",
    "print(c)"
   ]
  },
  {
   "cell_type": "code",
   "execution_count": 13,
   "metadata": {},
   "outputs": [
    {
     "name": "stdout",
     "output_type": "stream",
     "text": [
      "a = 1\n",
      "b = 2\n",
      "c = 3\n"
     ]
    }
   ],
   "source": [
    "#ndim\n",
    "print(\"a = {}\".format(a.ndim))\n",
    "print(\"b = {}\".format(b.ndim))\n",
    "print(\"c = {}\".format(c.ndim))"
   ]
  },
  {
   "cell_type": "code",
   "execution_count": 14,
   "metadata": {},
   "outputs": [
    {
     "name": "stdout",
     "output_type": "stream",
     "text": [
      "a = (3,)\n",
      "b = (2, 3)\n",
      "c = (2, 2, 3)\n"
     ]
    }
   ],
   "source": [
    "#Shape\n",
    "print(\"a = {}\".format(a.shape))\n",
    "print(\"b = {}\".format(b.shape))\n",
    "print(\"c = {}\".format(c.shape))"
   ]
  },
  {
   "cell_type": "code",
   "execution_count": 15,
   "metadata": {},
   "outputs": [
    {
     "name": "stdout",
     "output_type": "stream",
     "text": [
      "a = 4\n",
      "b = 4\n",
      "c = 4\n"
     ]
    }
   ],
   "source": [
    "#Item Size\n",
    "print(\"a = {}\".format(a.itemsize))\n",
    "print(\"b = {}\".format(b.itemsize))\n",
    "print(\"c = {}\".format(c.itemsize))"
   ]
  },
  {
   "cell_type": "code",
   "execution_count": 16,
   "metadata": {},
   "outputs": [
    {
     "name": "stdout",
     "output_type": "stream",
     "text": [
      "a = <U1\n",
      "b = int32\n",
      "c = int32\n"
     ]
    }
   ],
   "source": [
    "#dtype\n",
    "print(\"a = {}\".format(a.dtype))\n",
    "print(\"b = {}\".format(b.dtype))\n",
    "print(\"c = {}\".format(c.dtype))"
   ]
  },
  {
   "cell_type": "code",
   "execution_count": 17,
   "metadata": {},
   "outputs": [
    {
     "name": "stdout",
     "output_type": "stream",
     "text": [
      "a = 3\n",
      "b = 6\n",
      "c = 12\n"
     ]
    }
   ],
   "source": [
    "#Size\n",
    "print(\"a = {}\".format(a.size))\n",
    "print(\"b = {}\".format(b.size))\n",
    "print(\"c = {}\".format(c.size))"
   ]
  },
  {
   "cell_type": "code",
   "execution_count": 21,
   "metadata": {},
   "outputs": [
    {
     "name": "stdout",
     "output_type": "stream",
     "text": [
      "['1' '2' '3'] Converted to [1 2 3]\n",
      "After converting, now array is int32\n"
     ]
    }
   ],
   "source": [
    "# Convert an array to different type\n",
    "integerArr = a.astype(int)\n",
    "print(\"{} Converted to {}\".format(a, integerArr))\n",
    "print(\"After converting, now array is {}\".format(integerArr.dtype))"
   ]
  },
  {
   "cell_type": "code",
   "execution_count": 26,
   "metadata": {},
   "outputs": [
    {
     "name": "stdout",
     "output_type": "stream",
     "text": [
      "b = (3,)\n",
      "[[1 2 3]\n",
      " [4 5 6]]\n",
      "\n",
      "After reshapng:\n",
      "reshaped = (3, 2)\n",
      "[[1 2]\n",
      " [3 4]\n",
      " [5 6]]\n"
     ]
    }
   ],
   "source": [
    "# Reshape\n",
    "print(\"b = {}\".format(a.shape))\n",
    "print(b)\n",
    "print(\"\\nAfter reshapng:\")\n",
    "reshaped = b.reshape(3,2)\n",
    "print(\"reshaped = {}\".format(reshaped.shape))\n",
    "print(reshaped)"
   ]
  },
  {
   "cell_type": "code",
   "execution_count": 35,
   "metadata": {},
   "outputs": [
    {
     "name": "stdout",
     "output_type": "stream",
     "text": [
      "[[1 2 3]\n",
      " [4 5 6]]\n",
      "\n",
      "Row - Repeat\n",
      "[[1 2 3]\n",
      " [1 2 3]\n",
      " [4 5 6]\n",
      " [4 5 6]]\n",
      "\n",
      "Column - Repeat\n",
      "[[1 1 2 2 3 3]\n",
      " [4 4 5 5 6 6]]\n"
     ]
    }
   ],
   "source": [
    "# Repeat\n",
    "print(b)\n",
    "print(\"\\nRow - Repeat\")\n",
    "print(b.repeat(2,0))\n",
    "\n",
    "print(\"\\nColumn - Repeat\")\n",
    "print(b.repeat(2,1))"
   ]
  },
  {
   "cell_type": "code",
   "execution_count": 37,
   "metadata": {},
   "outputs": [
    {
     "name": "stdout",
     "output_type": "stream",
     "text": [
      "Flatted array [1 2 3 4 5 6]\n"
     ]
    }
   ],
   "source": [
    "#ravel()\n",
    "print(\"Flatted array {}\".format(b.ravel()))\n"
   ]
  },
  {
   "cell_type": "code",
   "execution_count": 44,
   "metadata": {},
   "outputs": [
    {
     "name": "stdout",
     "output_type": "stream",
     "text": [
      "List Sum = [(1, 2), (3, 4), (1, 2), (3, 4)]\n",
      "Numpy Sum: \n",
      " [[2 4]\n",
      " [4 6]]\n",
      "Numpy Sum: \n",
      " [[2 4]\n",
      " [6 8]]\n"
     ]
    }
   ],
   "source": [
    "alist = [(1,2), (3,4)]\n",
    "blist = [(1,2), (3,4)]\n",
    "\n",
    "print(\"List Sum = {}\".format(alist+blist))\n",
    "\n",
    "aNumpy = np.array([(1,2), (3,4)])\n",
    "bNumpy = np.array([(1,2)])\n",
    "\n",
    "print(\"Numpy Sum: \\n {}\".format(aNumpy+bNumpy))\n",
    "\n",
    "aNumpy = [(1,2), (3,4)]\n",
    "bNumpy = [(1,2), (3,4)]\n",
    "\n",
    "print(\"Numpy Sum: \\n {}\".format(np.add(aNumpy, bNumpy)))\n"
   ]
  },
  {
   "cell_type": "code",
   "execution_count": 47,
   "metadata": {},
   "outputs": [
    {
     "name": "stdout",
     "output_type": "stream",
     "text": [
      "Numpy Sum: \n",
      " [ 2  7 12 17 22]\n"
     ]
    }
   ],
   "source": [
    "# Arange\n",
    "print(\"Numpy Sum: \\n {}\".format(np.arange(2,25,5)))"
   ]
  },
  {
   "cell_type": "code",
   "execution_count": null,
   "metadata": {},
   "outputs": [],
   "source": []
  }
 ],
 "metadata": {
  "kernelspec": {
   "display_name": "Python 3",
   "language": "python",
   "name": "python3"
  },
  "language_info": {
   "codemirror_mode": {
    "name": "ipython",
    "version": 3
   },
   "file_extension": ".py",
   "mimetype": "text/x-python",
   "name": "python",
   "nbconvert_exporter": "python",
   "pygments_lexer": "ipython3",
   "version": "3.7.0"
  }
 },
 "nbformat": 4,
 "nbformat_minor": 2
}
